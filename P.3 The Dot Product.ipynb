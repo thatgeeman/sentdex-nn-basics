{
 "cells": [
  {
   "cell_type": "markdown",
   "metadata": {},
   "source": [
    "# Neural Networks from Scratch - P.3 The Dot Product"
   ]
  },
  {
   "cell_type": "markdown",
   "metadata": {},
   "source": [
    "**In calculating the activation functions in future, OL will have a different bias.** \n",
    "`but this doesnt concern us now`\n",
    "\n",
    "If we were making a node from the OL: assume we are receiving 4 parameters from the previous node."
   ]
  },
  {
   "cell_type": "markdown",
   "metadata": {},
   "source": [
    "# 4 inputs into 3 neurons"
   ]
  },
  {
   "cell_type": "code",
   "execution_count": 36,
   "metadata": {},
   "outputs": [],
   "source": [
    "inputs = [1, 2, 3, 2.5] # 4 params from previous node\n",
    "n_nodes = 3 # no of nodes\n",
    "\n",
    "weights = [[0.2, 0.8, -0.5, 1.0], # for first neuron\n",
    "           [0.5, -0.91, 0.26, -0.5], # second\n",
    "           [-0.26, -0.27, 0.17, 0.87]] # third\n",
    "\n",
    "bias = [2, 3, 0.5] # since there are 3 nodes\n",
    "                   # 3 bias for each node"
   ]
  },
  {
   "cell_type": "code",
   "execution_count": 37,
   "metadata": {},
   "outputs": [
    {
     "name": "stdout",
     "output_type": "stream",
     "text": [
      "CPU times: user 25 µs, sys: 5 µs, total: 30 µs\n",
      "Wall time: 36 µs\n",
      "[4.8, 1.21, 2.385]\n"
     ]
    }
   ],
   "source": [
    "%time output = [sum([inputs[i]*weights[n][i] for i in range(4)])\\\n",
    "             + bias[n] for n in range(n_nodes)]\n",
    "print(output)"
   ]
  },
  {
   "cell_type": "markdown",
   "metadata": {},
   "source": [
    "# Same operation in numpy"
   ]
  },
  {
   "cell_type": "code",
   "execution_count": 38,
   "metadata": {},
   "outputs": [],
   "source": [
    "import numpy as np"
   ]
  },
  {
   "cell_type": "code",
   "execution_count": 39,
   "metadata": {},
   "outputs": [],
   "source": [
    "inputs=np.array(inputs)\n",
    "weights=np.array(weights)\n",
    "bias=np.array(bias)"
   ]
  },
  {
   "cell_type": "code",
   "execution_count": 40,
   "metadata": {},
   "outputs": [
    {
     "data": {
      "text/plain": [
       "array([[ 0.2 ,  0.8 , -0.5 ,  1.  ],\n",
       "       [ 0.5 , -0.91,  0.26, -0.5 ],\n",
       "       [-0.26, -0.27,  0.17,  0.87]])"
      ]
     },
     "execution_count": 40,
     "metadata": {},
     "output_type": "execute_result"
    }
   ],
   "source": [
    "weights"
   ]
  },
  {
   "cell_type": "code",
   "execution_count": 41,
   "metadata": {},
   "outputs": [
    {
     "data": {
      "text/plain": [
       "array([1. , 2. , 3. , 2.5])"
      ]
     },
     "execution_count": 41,
     "metadata": {},
     "output_type": "execute_result"
    }
   ],
   "source": [
    "inputs"
   ]
  },
  {
   "cell_type": "code",
   "execution_count": 42,
   "metadata": {},
   "outputs": [
    {
     "data": {
      "text/plain": [
       "array([2. , 3. , 0.5])"
      ]
     },
     "execution_count": 42,
     "metadata": {},
     "output_type": "execute_result"
    }
   ],
   "source": [
    "bias"
   ]
  },
  {
   "cell_type": "markdown",
   "metadata": {},
   "source": [
    "## Broadcasting in numpy to the rescue\n",
    "Numpy realises `inputs` is only 1D and broadcasts itself 3 more times.\n",
    "\n",
    "Intuition: Bias shifts the intercept, line equation."
   ]
  },
  {
   "cell_type": "code",
   "execution_count": 43,
   "metadata": {},
   "outputs": [
    {
     "name": "stdout",
     "output_type": "stream",
     "text": [
      "CPU times: user 71 µs, sys: 16 µs, total: 87 µs\n",
      "Wall time: 71.8 µs\n",
      "[4.8   1.21  2.385]\n"
     ]
    }
   ],
   "source": [
    "%time output = np.dot(weights,inputs) + bias\n",
    "# row by row dot product\n",
    "print(output)"
   ]
  },
  {
   "cell_type": "markdown",
   "metadata": {},
   "source": [
    "#### list comprehension is faster than numpy!\n",
    "30-40 microseconds with list comprehension\n",
    "60-90 microseconds with numpy"
   ]
  }
 ],
 "metadata": {
  "kernelspec": {
   "display_name": "Python 3",
   "language": "python",
   "name": "python3"
  },
  "language_info": {
   "codemirror_mode": {
    "name": "ipython",
    "version": 3
   },
   "file_extension": ".py",
   "mimetype": "text/x-python",
   "name": "python",
   "nbconvert_exporter": "python",
   "pygments_lexer": "ipython3",
   "version": "3.8.2"
  }
 },
 "nbformat": 4,
 "nbformat_minor": 2
}
