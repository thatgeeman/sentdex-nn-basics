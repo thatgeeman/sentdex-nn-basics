{
 "cells": [
  {
   "cell_type": "markdown",
   "metadata": {},
   "source": [
    "# Neural Networks from Scratch - P.3 The Dot Product"
   ]
  },
  {
   "cell_type": "markdown",
   "metadata": {},
   "source": [
    "**In calculating the activation functions in future, OL will have a different bias.** \n",
    "`but this doesnt concern us now`\n",
    "\n",
    "If we were making a node from the OL: assume we are receiving 4 parameters from the previous node."
   ]
  },
  {
   "cell_type": "markdown",
   "metadata": {},
   "source": [
    "# 4 inputs into 3 neurons"
   ]
  },
  {
   "cell_type": "code",
   "execution_count": 13,
   "metadata": {},
   "outputs": [
    {
     "data": {
      "text/plain": [
       "[4.8, 1.21, 2.385]"
      ]
     },
     "execution_count": 13,
     "metadata": {},
     "output_type": "execute_result"
    }
   ],
   "source": [
    "inputs = [1, 2, 3, 2.5] # 4 params from previous node\n",
    "n_nodes = 3 # no of nodes\n",
    "\n",
    "weights = [[0.2, 0.8, -0.5, 1.0], # for first neuron\n",
    "           [0.5, -0.91, 0.26, -0.5], # second\n",
    "           [-0.26, -0.27, 0.17, 0.87]] # third\n",
    "\n",
    "bias = [2, 3, 0.5] # since there are 3 nodes\n",
    "                   # 3 bias for each node\n",
    "\n",
    "output = [sum([inputs[i]*weights[n][i] for i in range(4)])\\\n",
    "             + bias[n] for n in range(n_nodes)]\n",
    "output "
   ]
  }
 ],
 "metadata": {
  "kernelspec": {
   "display_name": "Python 3",
   "language": "python",
   "name": "python3"
  },
  "language_info": {
   "codemirror_mode": {
    "name": "ipython",
    "version": 3
   },
   "file_extension": ".py",
   "mimetype": "text/x-python",
   "name": "python",
   "nbconvert_exporter": "python",
   "pygments_lexer": "ipython3",
   "version": "3.8.2"
  }
 },
 "nbformat": 4,
 "nbformat_minor": 2
}
