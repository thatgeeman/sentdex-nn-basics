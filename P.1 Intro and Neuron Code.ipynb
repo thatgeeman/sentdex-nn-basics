{
 "cells": [
  {
   "cell_type": "markdown",
   "metadata": {},
   "source": [
    "# Neural Networks from Scratch - P.1 Intro and Neuron Code"
   ]
  },
  {
   "cell_type": "markdown",
   "metadata": {},
   "source": [
    "### Example case\n",
    "```node == neuron```\n",
    "\n",
    "Imagine there is 1 input layer (IL), 3 hidden layers (HL) and 1 output layer (OL). IL has 10 nodes, OL has 2 nodes, each HL has 128 nodes. \n",
    "* Total number of biases needed for each node would be `10 + 128*3 + 2 = 396` (the total number of nodes. each node has its own bias.)\n",
    "* Total number of weights needed would depend on the number of connections needed to the next node. `10*128 + 128*128 + 128*128 + 128*2 = 34304`\n",
    "* Total number of parameters `34304 + 396 = 34700`"
   ]
  },
  {
   "cell_type": "markdown",
   "metadata": {},
   "source": [
    "# Versions"
   ]
  },
  {
   "cell_type": "code",
   "execution_count": 6,
   "metadata": {},
   "outputs": [],
   "source": [
    "import sys, numpy as np, matplotlib"
   ]
  },
  {
   "cell_type": "code",
   "execution_count": 7,
   "metadata": {},
   "outputs": [
    {
     "name": "stdout",
     "output_type": "stream",
     "text": [
      "3.8.2 (default, Apr  8 2020, 14:31:25) \n",
      "[GCC 9.3.0] \n",
      " 1.17.4 \n",
      " 3.1.2\n"
     ]
    }
   ],
   "source": [
    "print(sys.version,'\\n',np.__version__,'\\n',matplotlib.__version__)"
   ]
  },
  {
   "cell_type": "markdown",
   "metadata": {},
   "source": [
    "# Program one node"
   ]
  },
  {
   "cell_type": "code",
   "execution_count": 17,
   "metadata": {},
   "outputs": [],
   "source": [
    "inputs = [1.2,5.1,2.1] # takes 3 features x1 x2 x3\n",
    "weights = [3.1,2.1,8.7] # therefore has 3 weights\n",
    "bias = 3 # one node has one bias"
   ]
  },
  {
   "cell_type": "code",
   "execution_count": 18,
   "metadata": {},
   "outputs": [
    {
     "data": {
      "text/plain": [
       "35.7"
      ]
     },
     "execution_count": 18,
     "metadata": {},
     "output_type": "execute_result"
    }
   ],
   "source": [
    "output = sum([inputs[i]*weights[i] for i in range(3)]) + bias\n",
    "output"
   ]
  }
 ],
 "metadata": {
  "kernelspec": {
   "display_name": "Python 3",
   "language": "python",
   "name": "python3"
  },
  "language_info": {
   "codemirror_mode": {
    "name": "ipython",
    "version": 3
   },
   "file_extension": ".py",
   "mimetype": "text/x-python",
   "name": "python",
   "nbconvert_exporter": "python",
   "pygments_lexer": "ipython3",
   "version": "3.8.2"
  }
 },
 "nbformat": 4,
 "nbformat_minor": 2
}
